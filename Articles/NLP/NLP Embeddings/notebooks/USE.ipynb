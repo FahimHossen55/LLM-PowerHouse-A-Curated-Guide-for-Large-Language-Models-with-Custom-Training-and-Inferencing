{
 "cells": [
  {
   "cell_type": "code",
   "execution_count": 7,
   "id": "f3d2ef95-a084-49fe-a103-2c7cf84e4388",
   "metadata": {},
   "outputs": [],
   "source": [
    "import tensorflow as tf\n",
    "import tensorflow_hub as hub"
   ]
  },
  {
   "cell_type": "code",
   "execution_count": 8,
   "id": "d14b75c4-89d3-4100-841b-3d02de8b3bee",
   "metadata": {},
   "outputs": [],
   "source": [
    "class UniversalSentenceEncoder:\n",
    "    def __init__(self):\n",
    "        self.use_model = hub.load(\"https://tfhub.dev/google/universal-sentence-encoder/4\")\n",
    "\n",
    "    def compute_embeddings(self, sentences):\n",
    "        embeddings = self.use_model(sentences)\n",
    "        return embeddings\n",
    "\n",
    "    @staticmethod\n",
    "    def compute_similarity(embedding1, embedding2):\n",
    "        similarity = tf.reduce_sum(embedding1 * embedding2, axis=-1) / (\n",
    "            tf.norm(embedding1, axis=-1) * tf.norm(embedding2, axis=-1)\n",
    "        )\n",
    "        return similarity"
   ]
  },
  {
   "cell_type": "code",
   "execution_count": 9,
   "id": "ef8e0714-eb3d-472a-a513-dc71d78f08ae",
   "metadata": {},
   "outputs": [],
   "source": [
    "# Initialize the SentenceEmbeddings class\n",
    "use = UniversalSentenceEncoder()\n",
    "\n",
    "# List of sentences\n",
    "sentences = [\n",
    "    \"My name is Arun Ghimire\",\n",
    "    \"I am a Machine Learning Engineer.\",\n",
    "    \"I am Arun Ghimire.\",\n",
    "    \"I work as an AI Engineer.\"\n",
    "]"
   ]
  },
  {
   "cell_type": "code",
   "execution_count": 10,
   "id": "e4d5d824-d11b-42e2-8525-a73debcec754",
   "metadata": {},
   "outputs": [],
   "source": [
    "# Compute embeddings for sentences\n",
    "embeddings = use.compute_embeddings(sentences)"
   ]
  },
  {
   "cell_type": "code",
   "execution_count": 11,
   "id": "cbe174bc-4006-4d50-a49e-b1f4b80cc70c",
   "metadata": {},
   "outputs": [],
   "source": [
    "# Compute similarity between embeddings\n",
    "similarity_matrix = []\n",
    "for i in range(len(embeddings)):\n",
    "    similarities = []\n",
    "    for j in range(len(embeddings)):\n",
    "        similarity = use.compute_similarity(\n",
    "            embeddings[i], embeddings[j]\n",
    "        )\n",
    "        similarities.append(similarity.numpy())\n",
    "    similarity_matrix.append(similarities)"
   ]
  },
  {
   "cell_type": "code",
   "execution_count": 12,
   "id": "a85564e3-4264-4d7b-a81b-6e873381a166",
   "metadata": {},
   "outputs": [
    {
     "name": "stdout",
     "output_type": "stream",
     "text": [
      "Similarity with 'My name is Arun Ghimire'\n",
      "  Similarity with 'My name is Arun Ghimire' : 1.0000\n",
      "  Similarity with 'I am a Machine Learning Engineer.' : 0.2367\n",
      "  Similarity with 'I am Arun Ghimire.' : 0.7327\n",
      "  Similarity with 'I work as an AI Engineer.' : 0.2593\n",
      "Similarity with 'I am a Machine Learning Engineer.'\n",
      "  Similarity with 'My name is Arun Ghimire' : 0.2367\n",
      "  Similarity with 'I am a Machine Learning Engineer.' : 1.0000\n",
      "  Similarity with 'I am Arun Ghimire.' : 0.2729\n",
      "  Similarity with 'I work as an AI Engineer.' : 0.7481\n",
      "Similarity with 'I am Arun Ghimire.'\n",
      "  Similarity with 'My name is Arun Ghimire' : 0.7327\n",
      "  Similarity with 'I am a Machine Learning Engineer.' : 0.2729\n",
      "  Similarity with 'I am Arun Ghimire.' : 1.0000\n",
      "  Similarity with 'I work as an AI Engineer.' : 0.2975\n",
      "Similarity with 'I work as an AI Engineer.'\n",
      "  Similarity with 'My name is Arun Ghimire' : 0.2593\n",
      "  Similarity with 'I am a Machine Learning Engineer.' : 0.7481\n",
      "  Similarity with 'I am Arun Ghimire.' : 0.2975\n",
      "  Similarity with 'I work as an AI Engineer.' : 1.0000\n"
     ]
    }
   ],
   "source": [
    "# Print similarity matrix\n",
    "for i, sentence in enumerate(sentences):\n",
    "    print(\"Similarity with '{}'\".format(sentence))\n",
    "    for j, sim in enumerate(similarity_matrix[i]):\n",
    "        print(\"  Similarity with '{}' : {:.4f}\".format(sentences[j], sim))"
   ]
  },
  {
   "cell_type": "code",
   "execution_count": null,
   "id": "84ca11ae-525d-492b-a0fd-6e19d5c08fcb",
   "metadata": {},
   "outputs": [],
   "source": []
  }
 ],
 "metadata": {
  "kernelspec": {
   "display_name": "Python 3 (ipykernel)",
   "language": "python",
   "name": "python3"
  },
  "language_info": {
   "codemirror_mode": {
    "name": "ipython",
    "version": 3
   },
   "file_extension": ".py",
   "mimetype": "text/x-python",
   "name": "python",
   "nbconvert_exporter": "python",
   "pygments_lexer": "ipython3",
   "version": "3.10.12"
  }
 },
 "nbformat": 4,
 "nbformat_minor": 5
}
