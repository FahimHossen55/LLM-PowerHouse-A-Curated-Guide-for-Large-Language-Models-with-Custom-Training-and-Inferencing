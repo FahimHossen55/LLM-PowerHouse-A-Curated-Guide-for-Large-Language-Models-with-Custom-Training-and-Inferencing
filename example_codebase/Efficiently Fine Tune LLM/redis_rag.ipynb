{
  "nbformat": 4,
  "nbformat_minor": 0,
  "metadata": {
    "colab": {
      "provenance": []
    },
    "kernelspec": {
      "name": "python3",
      "display_name": "Python 3"
    },
    "language_info": {
      "name": "python"
    }
  },
  "cells": [
    {
      "cell_type": "code",
      "execution_count": null,
      "metadata": {
        "id": "Lz5d9qzZWTds"
      },
      "outputs": [],
      "source": [
        "url=\"redis_url\"\n",
        "\n",
        "host=\"redis_host\"\n",
        "password=\"redis_password\"\n",
        "port=8888 #replace_with_redis_port\n",
        "\n",
        "import gzip\n",
        "import json\n",
        "import pandas as pd\n",
        "import numpy as np\n",
        "\n",
        "import redis\n",
        "from langchain.vectorstores.redis import Redis\n",
        "\n",
        "\n",
        "r = redis.Redis(\n",
        "  host=host,\n",
        "  port=port,\n",
        "  password=password)"
      ]
    },
    {
      "cell_type": "code",
      "source": [
        "def get_data(asin):\n",
        "    data = []\n",
        "    with gzip.open('AMAZON_FASHION.json.gz') as f:\n",
        "        for l in f:\n",
        "            data.append(json.loads(l.strip()))\n",
        "\n",
        "    df = pd.DataFrame.from_dict(data)\n",
        "    df = df[df['reviewText'].notna()]\n",
        "    df = df.loc[df['asin'] == asin].copy()\n",
        "    return df\n",
        "\n",
        "df=get_data('B000KPIHQ4').reset_index()[['overall','asin','reviewText','summary','reviewerID']]\n",
        "\n",
        "max_text_length=400\n",
        "def truncate_review(text):\n",
        "    return text[:max_text_length]\n",
        "df['reviewText']=df.apply(lambda row: truncate_review(row['reviewText']),axis=1)\n",
        "\n",
        "df['overall']=df.apply(lambda row: int(row['overall']),axis=1)"
      ],
      "metadata": {
        "id": "_i9bGj8sqmA4"
      },
      "execution_count": null,
      "outputs": []
    },
    {
      "cell_type": "code",
      "source": [
        "from langchain.embeddings import HuggingFaceEmbeddings\n",
        "embeddings = HuggingFaceEmbeddings()"
      ],
      "metadata": {
        "id": "l4IGtfDuqm3Q"
      },
      "execution_count": null,
      "outputs": []
    },
    {
      "cell_type": "code",
      "source": [
        "reviews=df.head(100).to_dict(orient='index')\n",
        "\n",
        "texts=df.head(100)['reviewText'].to_list()\n",
        "vectors=embeddings.embed_documents(texts)\n",
        "\n",
        "summaries=df.head(100)['summary'].to_list()\n",
        "summary_vectors=embeddings.embed_documents(summaries)\n",
        "\n",
        "#vstore = Redis.from_texts(texts, embeddings, redis_url=url,  index_name='reviewidx')\n",
        "\n",
        "#vstore_meta = Redis.from_texts(texts, embeddings, redis_url=url, index_name='reviewidx_meta',metadatas=metadata)"
      ],
      "metadata": {
        "id": "pCtiAzLBqpYD"
      },
      "execution_count": null,
      "outputs": []
    },
    {
      "cell_type": "code",
      "source": [
        "len(vectors[0])"
      ],
      "metadata": {
        "id": "c0Hx_bOWqssU"
      },
      "execution_count": null,
      "outputs": []
    },
    {
      "cell_type": "code",
      "source": [
        "r.execute_command('FT._LIST')"
      ],
      "metadata": {
        "id": "4rZLIVnVqwjc"
      },
      "execution_count": null,
      "outputs": []
    },
    {
      "cell_type": "code",
      "source": [
        "from redis.commands.search.field import VectorField\n",
        "from redis.commands.search.field import TextField\n",
        "from redis.commands.search.field import NumericField\n",
        "\n",
        "from redis.commands.search.indexDefinition import IndexDefinition, IndexType\n",
        "\n",
        "from redis.commands.search.query import Query"
      ],
      "metadata": {
        "id": "JltTa3lPq0sP"
      },
      "execution_count": null,
      "outputs": []
    },
    {
      "cell_type": "code",
      "source": [
        "pipe = r.pipeline(transaction=False)"
      ],
      "metadata": {
        "id": "jndXH6W0q9j5"
      },
      "execution_count": null,
      "outputs": []
    },
    {
      "cell_type": "code",
      "source": [
        "schema = (\n",
        "    TextField(\"overall\"),\n",
        "    TextField(\"reviewText\"),\n",
        "    TextField(\"summary\"),\n",
        "    VectorField(\"vector\", \"HNSW\", {\"TYPE\": \"FLOAT32\", \"DIM\": 768, \"DISTANCE_METRIC\": \"COSINE\"}),\n",
        ")"
      ],
      "metadata": {
        "id": "dFMXb3ydrDSA"
      },
      "execution_count": null,
      "outputs": []
    },
    {
      "cell_type": "code",
      "source": [
        "prefix=\"doc:reviewidx_hash\"\n",
        "\n",
        "r.ft(\"reviewidx_hashed\").create_index(fields=schema,\n",
        "                                      definition=IndexDefinition(prefix=[prefix],index_type=IndexType.HASH)\n",
        "                                     )"
      ],
      "metadata": {
        "id": "GS_79lgprGM9"
      },
      "execution_count": null,
      "outputs": []
    },
    {
      "cell_type": "code",
      "source": [
        "for i in reviews.keys():\n",
        "    key=prefix+':' + reviews[i]['reviewerID']\n",
        "    record = reviews[i]\n",
        "    record['vector']=np.array(vectors[i]).astype(np.float32).tobytes()\n",
        "    pipe.hset(key,mapping=record)\n",
        "pipe.execute()"
      ],
      "metadata": {
        "id": "StDIaX42rI01"
      },
      "execution_count": null,
      "outputs": []
    },
    {
      "cell_type": "code",
      "source": [
        "r.execute_command('FT._LIST')"
      ],
      "metadata": {
        "id": "L3d0e8U5rLg2"
      },
      "execution_count": null,
      "outputs": []
    },
    {
      "cell_type": "code",
      "source": [
        "prefix=\"doc:reviewidx_json\"\n",
        "\n",
        "schema = (TextField(\"$.asin\", as_name=\"asin\"),\n",
        "          TextField(\"$.reviewText\", as_name=\"reviewText\"),\n",
        "          TextField(\"$.reviewerID\", as_name=\"reviewerID\"),\n",
        "          TextField(\"$.summary\", as_name=\"summary\"),\n",
        "          NumericField(\"$.overall\", as_name=\"overall\"),\n",
        "          VectorField(\"$.vector\", \"HNSW\", {\"TYPE\": \"FLOAT32\", \"DIM\": 768, \"DISTANCE_METRIC\": \"COSINE\"},\n",
        "                      as_name=\"vector\")\n",
        "         )"
      ],
      "metadata": {
        "id": "InOqYd6BrPFK"
      },
      "execution_count": null,
      "outputs": []
    },
    {
      "cell_type": "code",
      "source": [
        "r.ft(\"reviewidx_json\").create_index(schema, definition=IndexDefinition(prefix=[prefix], index_type=IndexType.JSON))"
      ],
      "metadata": {
        "id": "2GwqM9prrRX6"
      },
      "execution_count": null,
      "outputs": []
    },
    {
      "cell_type": "code",
      "source": [
        "for i in reviews.keys():\n",
        "    key=prefix+':' + reviews[i]['reviewerID']\n",
        "    record = reviews[i]\n",
        "    record['vector']=vectors[i]\n",
        "    pipe.json().set(key, '$', record)\n",
        "pipe.execute()"
      ],
      "metadata": {
        "id": "X1WcZfqXrUIH"
      },
      "execution_count": null,
      "outputs": []
    },
    {
      "cell_type": "code",
      "source": [
        "r.execute_command('FT._LIST')"
      ],
      "metadata": {
        "id": "MaaSKhcfrWjw"
      },
      "execution_count": null,
      "outputs": []
    },
    {
      "cell_type": "code",
      "source": [
        "r.json().get('doc:reviewidx_json:A2YBAAGNFYJHFJ','$')"
      ],
      "metadata": {
        "id": "a-OsEeI2raNq"
      },
      "execution_count": null,
      "outputs": []
    },
    {
      "cell_type": "code",
      "source": [
        "prefix=\"doc:reviewidx_json_multi\"\n",
        "\n",
        "schema = (TextField(\"$.asin\", as_name=\"asin\"),\n",
        "          TextField(\"$.reviewText\", as_name=\"reviewText\"),\n",
        "          TextField(\"$.reviewerID\", as_name=\"reviewerID\"),\n",
        "          TextField(\"$.summary\", as_name=\"summary\"),\n",
        "          NumericField(\"$.overall\", as_name=\"overall\"),\n",
        "          VectorField(\"$.vectors[*]\", \"HNSW\", {\"TYPE\": \"FLOAT32\", \"DIM\": 768, \"DISTANCE_METRIC\": \"COSINE\"},\n",
        "                      as_name=\"vector\")\n",
        "         )"
      ],
      "metadata": {
        "id": "VXF0kS3qrdMd"
      },
      "execution_count": null,
      "outputs": []
    },
    {
      "cell_type": "code",
      "source": [
        "r.ft(\"reviewidx_json_multi\").create_index(schema,\n",
        "                                          definition=IndexDefinition(prefix=[prefix], index_type=IndexType.JSON))"
      ],
      "metadata": {
        "id": "vyl1BvvyrgCV"
      },
      "execution_count": null,
      "outputs": []
    },
    {
      "cell_type": "code",
      "source": [
        "for i in reviews.keys():\n",
        "    key=prefix+':' + reviews[i]['reviewerID']\n",
        "    record = reviews[i]\n",
        "    record['vectors']=[vectors[i],summary_vectors[i]]\n",
        "    pipe.json().set(key, '$', record)\n",
        "pipe.execute()"
      ],
      "metadata": {
        "id": "9Zg5G-zHrjHp"
      },
      "execution_count": null,
      "outputs": []
    },
    {
      "cell_type": "code",
      "source": [
        "from redis.commands.json.path import Path"
      ],
      "metadata": {
        "id": "ClH6LjwNrlZc"
      },
      "execution_count": null,
      "outputs": []
    },
    {
      "cell_type": "code",
      "source": [
        "r.json().get('doc:reviewidx_json_multi:A1BDZBAMHAN1G3', '$')"
      ],
      "metadata": {
        "id": "ak5koyibrqCo"
      },
      "execution_count": null,
      "outputs": []
    },
    {
      "cell_type": "code",
      "source": [
        "query_syntax = \"*=>[KNN 5 @vector $vec_param AS vector_score]\"\n",
        "\n",
        "vss_query=Query(query_syntax).return_fields(\"overall\", \"vector_score\").sort_by(\"vector_score\").dialect(2)\n",
        "\n",
        "query_string=\"Very uncomfortable\"\n",
        "embedded_query=np.array(embeddings.embed_documents([query_string])).astype(np.float32).tobytes()\n",
        "\n",
        "params_dict = {\"vec_param\": embedded_query}\n",
        "\n",
        "vss_results = r.ft('reviewidx_json_multi').search(vss_query, query_params = params_dict)"
      ],
      "metadata": {
        "id": "TKAuwHGErs0T"
      },
      "execution_count": null,
      "outputs": []
    },
    {
      "cell_type": "code",
      "source": [
        "vss_results"
      ],
      "metadata": {
        "id": "XZFvPqo4rwIp"
      },
      "execution_count": null,
      "outputs": []
    },
    {
      "cell_type": "code",
      "source": [
        "query_syntax = \"(@overall:3)=>[KNN 5 @vector $vec_param AS vector_score]\"\n",
        "\n",
        "vss_query=Query(query_syntax).return_fields(\"overall\", \"vector_score\").sort_by(\"vector_score\").dialect(2)\n",
        "\n",
        "query_string=\"Very uncomfortable\"\n",
        "embedded_query=np.array(embeddings.embed_documents([query_string])).astype(np.float32).tobytes()\n",
        "\n",
        "params_dict = {\"vec_param\": embedded_query}\n",
        "\n",
        "vss_results = r.ft('reviewidx_hashed').search(vss_query, query_params = params_dict)"
      ],
      "metadata": {
        "id": "yhNtt_VFrzxJ"
      },
      "execution_count": null,
      "outputs": []
    },
    {
      "cell_type": "code",
      "source": [
        "vss_results"
      ],
      "metadata": {
        "id": "t4HoT1-Rr2ha"
      },
      "execution_count": null,
      "outputs": []
    },
    {
      "cell_type": "code",
      "source": [
        "from dotenv import load_dotenv,find_dotenv\n",
        "load_dotenv()"
      ],
      "metadata": {
        "id": "TBvYozzpr7-o"
      },
      "execution_count": null,
      "outputs": []
    },
    {
      "cell_type": "code",
      "source": [
        "from langchain.prompts import PromptTemplate\n",
        "from langchain.chat_models import ChatOpenAI\n",
        "\n",
        "from langchain.chains import RetrievalQA\n",
        "from langchain.chains.summarize import load_summarize_chain\n",
        "\n",
        "chat = ChatOpenAI(model_name=\"gpt-4\",temperature=0.2)"
      ],
      "metadata": {
        "id": "EWp3al-6r_x6"
      },
      "execution_count": null,
      "outputs": []
    },
    {
      "cell_type": "code",
      "source": [
        "vstore = Redis.from_existing_index(index_name='reviewidx', embedding=embeddings,redis_url=url)"
      ],
      "metadata": {
        "id": "N1SspP3NsCV9"
      },
      "execution_count": null,
      "outputs": []
    },
    {
      "cell_type": "code",
      "source": [
        "review_chain = RetrievalQA.from_chain_type(llm=chat, chain_type=\"stuff\", retriever=vstore.as_retriever())"
      ],
      "metadata": {
        "id": "cmknao3AsGbg"
      },
      "execution_count": null,
      "outputs": []
    },
    {
      "cell_type": "code",
      "source": [
        "q=\"\"\"\n",
        "The reviews you see are for a product called 'Powerstep Pinnacle Orthotic Shoe Insoles'.\n",
        "What is the overall impression of these reviews? Give most prevalent examples in bullets.\n",
        "What do you suggest we focus on improving?\n",
        "\"\"\"\n",
        "\n",
        "result=review_chain.run(q)"
      ],
      "metadata": {
        "id": "P3w1nLwysJI9"
      },
      "execution_count": null,
      "outputs": []
    },
    {
      "cell_type": "code",
      "source": [
        "print(result)"
      ],
      "metadata": {
        "id": "mUArmVxysL22"
      },
      "execution_count": null,
      "outputs": []
    },
    {
      "cell_type": "code",
      "source": [
        "from langchain.document_loaders.base import Document"
      ],
      "metadata": {
        "id": "d3Kc8SS3sOLI"
      },
      "execution_count": null,
      "outputs": []
    },
    {
      "cell_type": "code",
      "source": [
        "query_syntax = \"*=>[KNN 5 @vector $vec_param AS vector_score]\"\n",
        "\n",
        "vss_query=Query(query_syntax).return_fields(\"overall\", \"vector_score\",\"reviewText\",\"summary\").dialect(2)\n",
        "\n",
        "query_string=\"Very uncomfortable\"\n",
        "embedded_query=np.array(embeddings.embed_documents([query_string])).astype(np.float32).tobytes()\n",
        "\n",
        "params_dict = {\"vec_param\": embedded_query}\n",
        "\n",
        "vss_results = r.ft('reviewidx_hashed').search(vss_query, query_params = params_dict)"
      ],
      "metadata": {
        "id": "2KdA2lELsR6H"
      },
      "execution_count": null,
      "outputs": []
    },
    {
      "cell_type": "code",
      "source": [
        "vss_results"
      ],
      "metadata": {
        "id": "5CrKi4fgsUaa"
      },
      "execution_count": null,
      "outputs": []
    },
    {
      "cell_type": "code",
      "source": [
        "docs=[]\n",
        "for review in vss_results.docs:\n",
        "    result_string = ''\n",
        "    result_string += \" review score:\" + review.overall + ' ' + review.reviewText + ' ' + review.summary\n",
        "    docs.append(Document(page_content=result_string))"
      ],
      "metadata": {
        "id": "QSSWQLVisWv8"
      },
      "execution_count": null,
      "outputs": []
    },
    {
      "cell_type": "code",
      "source": [
        "docs"
      ],
      "metadata": {
        "id": "Icchht1nsZQv"
      },
      "execution_count": null,
      "outputs": []
    },
    {
      "cell_type": "code",
      "source": [
        "prompt_template_summary = \"\"\"\n",
        "Write a summary of the reviews:\n",
        "\n",
        "{text}\n",
        "\n",
        "The summary should be about five lines long\n",
        "\"\"\"\n",
        "PROMPT = PromptTemplate(template=prompt_template_summary, input_variables=[\"text\"])\n",
        "chain = load_summarize_chain(chat, chain_type=\"stuff\", prompt=PROMPT)\n",
        "summary=chain.run(docs)"
      ],
      "metadata": {
        "id": "XTelI_7NsbsT"
      },
      "execution_count": null,
      "outputs": []
    },
    {
      "cell_type": "code",
      "source": [
        "print(summary)"
      ],
      "metadata": {
        "id": "d1fMtOCWsd7x"
      },
      "execution_count": null,
      "outputs": []
    }
  ]
}